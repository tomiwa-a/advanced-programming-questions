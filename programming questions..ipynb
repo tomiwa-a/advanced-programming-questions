{
 "cells": [
  {
   "cell_type": "code",
   "execution_count": 1,
   "id": "f0019c3f",
   "metadata": {},
   "outputs": [],
   "source": [
    "# Hello My name is Tomiwa, but tommy is fine\n",
    "# This is a jupyter notebook that consists of me trying to solve as many coding problems as possible and to track my progression\n",
    "# The first few might not be as good because this was when I started Python and had little or no understanding of Data Structures & Algorithms and Dynamic Programming\n",
    "# THANK YOU!."
   ]
  },
  {
   "cell_type": "code",
   "execution_count": 4,
   "id": "d7fd2933",
   "metadata": {},
   "outputs": [],
   "source": [
    "# 1. HOUSE ROBBER (https://leetcode.com/problems/house-robber/) MEDIUM\n",
    "def rob(numbers):\n",
    "    total = 0\n",
    "#     indexes = list()\n",
    "    for i in range(len(numbers)):\n",
    "        if i > 1:\n",
    "            break\n",
    "        else:\n",
    "            number = numbers[i]\n",
    "#             y = [i]\n",
    "            x = i+2\n",
    "\n",
    "            while x<len(numbers):\n",
    "                number = number + numbers[x]\n",
    "#                 y.append(x)\n",
    "                x = x + 2\n",
    "            if number > total:\n",
    "                total = number\n",
    "#                 indexes = y.copy()\n",
    "            i = i+1;\n",
    "        \n",
    "    #print(indexes)\n",
    "    #print(total)\n",
    "    return total\n",
    "\n",
    "# Notice how I'm still following the strict typed coding pattern (JAVA)"
   ]
  },
  {
   "cell_type": "code",
   "execution_count": null,
   "id": "b2d96853",
   "metadata": {},
   "outputs": [],
   "source": [
    "\n",
    "# would definitely come up with a way of splitting up the questions \n"
   ]
  },
  {
   "cell_type": "code",
   "execution_count": 10,
   "id": "286c2723",
   "metadata": {},
   "outputs": [
    {
     "ename": "SyntaxError",
     "evalue": "invalid syntax (<ipython-input-10-a9c368aef866>, line 38)",
     "output_type": "error",
     "traceback": [
      "\u001b[1;36m  File \u001b[1;32m\"<ipython-input-10-a9c368aef866>\"\u001b[1;36m, line \u001b[1;32m38\u001b[0m\n\u001b[1;33m    dict = {'(': ')', '[': ']', {: '}'}\u001b[0m\n\u001b[1;37m                                 ^\u001b[0m\n\u001b[1;31mSyntaxError\u001b[0m\u001b[1;31m:\u001b[0m invalid syntax\n"
     ]
    }
   ],
   "source": [
    "\n",
    "#2. Valid Parenthesis (https://leetcode.com/problems/valid-parentheses/)\n",
    "\n",
    "string = \"({[]})\"\n",
    "openers = ['(', '[', '{']\n",
    "closers = [')', ']', '}']\n",
    "\n",
    "stack = list()\n",
    "checker = False\n",
    "\n",
    "for i in range(len(string)):\n",
    "    character = string[i]\n",
    "    if character in closers and i == 0:\n",
    "        print(\"Cannot Start with a closer\")\n",
    "        index = closers.index(character)\n",
    "        stack.append(closers[index])\n",
    "    else:\n",
    "        if character in openers:\n",
    "            index = openers.index(character)\n",
    "            stack.append(closers[index])\n",
    "        else: \n",
    "            stack_len = len(stack)\n",
    "            if stack_len == 0:\n",
    "                index = closers.index(character)\n",
    "                stack.append(closers[index])\n",
    "            else:\n",
    "                if character == stack[stack_len-1]:\n",
    "                    stack = stack[:stack_len-1]\n",
    "if len(stack) == 0:\n",
    "    print(\"True\")\n",
    "else:\n",
    "    print(\"False\")\n",
    "    \n",
    "# I did this first but noticed it was bulky and could have been done better so I recreated it\n",
    "\n",
    "# second attempt\n",
    "\n",
    "string = \"{()}\"\n",
    "dict = {'(': ')', '[': ']', {: '}'}\n",
    "stack = []\n",
    "for char in string:\n",
    "    if char in dict.keys():\n",
    "        stack.append(dict.get(char))\n",
    "    else:\n",
    "        if stack != [] and char == stack[-1]:\n",
    "            stack = stack[:-1]\n",
    "        else:\n",
    "            stack.append(char)\n",
    "    print(stack)\n",
    "\n",
    "message = \"True\" if stack == [] else \"False\"\n",
    "print(message)"
   ]
  },
  {
   "cell_type": "code",
   "execution_count": null,
   "id": "7c63bbff",
   "metadata": {},
   "outputs": [],
   "source": []
  }
 ],
 "metadata": {
  "kernelspec": {
   "display_name": "Python 3",
   "language": "python",
   "name": "python3"
  },
  "language_info": {
   "codemirror_mode": {
    "name": "ipython",
    "version": 3
   },
   "file_extension": ".py",
   "mimetype": "text/x-python",
   "name": "python",
   "nbconvert_exporter": "python",
   "pygments_lexer": "ipython3",
   "version": "3.8.8"
  }
 },
 "nbformat": 4,
 "nbformat_minor": 5
}
